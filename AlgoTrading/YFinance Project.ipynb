{
 "cells": [
  {
   "cell_type": "markdown",
   "id": "6bce4d8d",
   "metadata": {},
   "source": [
    "# This is the notebook focused on creating an algotrading bot #"
   ]
  },
  {
   "cell_type": "markdown",
   "id": "b78515a9",
   "metadata": {},
   "source": [
    "The ambition  of this project is to create an *algotrading* bot capable of investing in the stock market. This has been possible thanks to the help of Elio, Hugo, and Nassim. for the"
   ]
  }
 ],
 "metadata": {
  "kernelspec": {
   "display_name": "Python 3 (ipykernel)",
   "language": "python",
   "name": "python3"
  },
  "language_info": {
   "codemirror_mode": {
    "name": "ipython",
    "version": 3
   },
   "file_extension": ".py",
   "mimetype": "text/x-python",
   "name": "python",
   "nbconvert_exporter": "python",
   "pygments_lexer": "ipython3",
   "version": "3.11.1"
  }
 },
 "nbformat": 4,
 "nbformat_minor": 5
}
